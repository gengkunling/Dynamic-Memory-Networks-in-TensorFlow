{
 "cells": [
  {
   "cell_type": "code",
   "execution_count": 53,
   "metadata": {
    "collapsed": true
   },
   "outputs": [],
   "source": [
    "import pandas as pd\n",
    "f_company = \"contract_data/fortune1000.xls\"\n",
    "parsed = pd.read_excel(f_company, skiprows=5, dtype = str)"
   ]
  },
  {
   "cell_type": "code",
   "execution_count": 54,
   "metadata": {
    "collapsed": true
   },
   "outputs": [],
   "source": [
    "#print parsed['Company']\n",
    "company_names = parsed['Company']\n",
    "company_streets = parsed['Address']\n",
    "company_cities = parsed['City']\n",
    "company_states = parsed['State']\n",
    "company_zips = parsed['Zipcode']"
   ]
  },
  {
   "cell_type": "code",
   "execution_count": 55,
   "metadata": {
    "collapsed": true
   },
   "outputs": [],
   "source": [
    "N_company = len(company_names)"
   ]
  },
  {
   "cell_type": "code",
   "execution_count": 56,
   "metadata": {},
   "outputs": [
    {
     "name": "stdout",
     "output_type": "stream",
     "text": [
      "996\n"
     ]
    }
   ],
   "source": [
    "print N_company"
   ]
  },
  {
   "cell_type": "code",
   "execution_count": 175,
   "metadata": {
    "collapsed": true
   },
   "outputs": [],
   "source": [
    "\n",
    "\n",
    "contract1 =  \"THIS MASTER SERVICE AGREEMENT ( Agreement ) is made and entered into EFFECTIVE_DATE \\\n",
    "( Effective Date ) between CONTRACTOR_NAME ( Contractor ), CONTRACTOR_ADDR, and CONTRACTEE_NAME ( Operator ).  \\\n",
    "Contractor and Operator are also referred to as  party  and collectively as the  parties .  \\\n",
    "Subject to and in consideration of the mutual promises, conditions, and agreements contained herein, \\\n",
    "the receipt and sufficiency of which are hereby acknowledged, the parties agree as follows: \\\n",
    "Kunling LLC has owed Darshi Inc. 20000 dollars on August 1st, 2017.\"\n",
    "\n",
    "contract2 =  \"THIS MASTER SERVICE AGREEMENT ( Agreement ) is made and entered into EFFECTIVE_DATE \\\n",
    "( Effective Date ) between CONTRACTOR_NAME, CONTRACTOR_ADDR, ( Contractor ) and CONTRACTEE_NAME ( Operator ).  \\\n",
    "Contractor and Operator are also referred to as  party  and collectively as the  parties .  \\\n",
    "Subject to and in consideration of the mutual promises, conditions, and agreements contained herein, \\\n",
    "the receipt and sufficiency of which are hereby acknowledged.\"\n",
    "\n",
    "contract3 = \"THIS AGREEMENT made effective this EFFECTIVE_DATE by and between CONTRACTEE_NAME hereinafter called \\\n",
    "\\\"Company\\\" and CONTRACTOR_NAME, CONTRACTOR_ADDR, hereinafter called \\\"Contractor,\\\" whereby, in \\\n",
    "consideration of the covenants and provisions hereinafter provided, this Agreement shall control \\\n",
    "and govern all work performed or \\\n",
    "to be performed by Contractor for Company under verbal or written work orders, purchase orders, \\\n",
    "delivery tickets, voices or other verbal or written agreements between the Parties, relating to \\\n",
    "work to be done by Contractor for Company, and upersede any \\\n",
    "such previous agreements from date hereof until specifically cancelled in writing by either Party, \\\n",
    "anything to the co in any such agreement notwithstanding. This Agreement does not obligate Company \\\n",
    "to order work from Contractor, nor obligate Contractor to accept orders for work\"\n",
    "\n",
    "\n",
    "\n",
    "contract4 = \"This Contract is entered into as of the day of EFFECTIVE_DATE: (Effective Date) by and between \\\n",
    "The CONTRACTOR_NAME, a Virginia corporation (Consultant), and the CONTRACTEE_NAME, a municipal corporation and \\\n",
    "home rule unit of local government existing under the Constitution of the State of Illinois, acting through its \\\n",
    "Office of Emergency Management and Communications (City), at Chicago, Illinois.\"\n",
    "\n",
    "contract5= \"This Master Task Order Contract is entered into as of the EFFECTIVE_DATE \\\n",
    "(Effective Date) by and between CONTRACTOR_NAME, Inc., (Consultant), CONTRACTOR_ADDR, and the CONTRACTEE_NAME, CONTRACTEE_ADDR\\\n",
    "and home rule unit of local government existing under the Constitution of \\\n",
    "the State of Illinois, acting through its Chicago Department of Public Health (City), at Chicago, Illinois.\"\n",
    "\n",
    "\n",
    "    \n",
    "contract6 =  \"THIS MASTER SERVICE AGREEMENT ( Agreement ) is made and entered into EFFECTIVE_DATE \\\n",
    "( Effective Date ) between CONTRACTOR_NAME ( Contractor ), CONTRACTOR_ADDR, and \\\n",
    "CONTRACTEE_NAME ( Operator ), CONTRACTEE_ADDR  \\\n",
    "Contractor and Operator are also referred to as  party  and collectively as the  parties . \\\n",
    "Subject to and in consideration of the mutual promises, conditions, and agreements contained herein, \\\n",
    "the receipt and sufficiency of which are hereby acknowledged, the parties agree as follows: \\\n",
    "Kunling LLC has owed Darshi Inc. 20000 dollars on August 1st, 2017.\"\n",
    "\n",
    "\n",
    "contract7 = \"This Services Agreement (the Agreement) sets forth terms under that The CONTRACTOR_NAME (Company), CONTRACTOR_ADDR \\\n",
    "shall provide services to \\\n",
    "the CONTRACTEE_NAME (the Client). This Agreement is effective as \\\n",
    "of EFFECTIVE_DATE (Effective Date).\"\n",
    "\n",
    "\n",
    "contract8 = \"THIS AGREEMENT (Agreement), which comprises the full and complete agreement of \\\n",
    "the Parties hereto and supersedes all previous agreements between the Parties relating to the \\\n",
    "subject matter hereof, is entered into the EFFECTIVE_DATE, \\\n",
    "by and between CONTRACTEE_NAME, CONTRACTEE_ADDR, \\\n",
    "for itself and its wholly owned subsidiaries (Company), \\\n",
    "and CONTRACTOR_NAME,CONTRACTOR_ADDR, (Contractor). \\\n",
    "Company and Contractor are sometimes referred to hereinafter individually as a \\\n",
    "Party or collectively as the Parties.\"\n",
    "\n",
    "\n",
    "contract9 = \"This contract serves as the Master Services Agreement \\\n",
    "(Agreement) under which orders may be issued for professional services to \\\n",
    "be performed by the division of CONTRACTOR_NAME listed in the \\\n",
    "Addresses and Points of Contact section of this Agreement. This Agreement  \\\n",
    "is entered into by CONTRACTOR_NAME,CONTRACTOR_ADDR, \\\n",
    "and CONTRACTEE_NAME, CONTRACTEE_ADDR,  and is effective as of \\\n",
    "date signed. This agreement is effective from EFFECTIVE_DATE. \\\n",
    "For the purposes of this agreement, CONTRACTOR_NAME and the Customer may be referred to as such or \\\n",
    "as the Parties to this agreement.\"\n",
    "\n",
    "\n",
    "contract10 = \"This contract is entered into on this EFFECTIVE_DATE, by and between CONTRACTOR_NAME, a \\\n",
    "municipal corporation of the State of California and The CONTRACTEE_NAME, CONTRACTEE_ADDR. \\\n",
    "This contract consists of \\\n",
    "the following documents:\"\n",
    "\n",
    "contract_templates = [contract1, contract2, contract3, contract4, contract5, contract6, contract7, contract8, contract9, contract10]\n",
    "N_template = len(contract_templates)"
   ]
  },
  {
   "cell_type": "code",
   "execution_count": 188,
   "metadata": {},
   "outputs": [],
   "source": [
    "from datetime import datetime\n",
    "import random\n",
    "\n",
    "def random_day():\n",
    "    year = random.choice(range(1950, 2018))\n",
    "    month = random.choice(range(1, 13))\n",
    "    if month == 2:\n",
    "        if year % 4 == 0:\n",
    "            day = random.choice(range(1, 30))\n",
    "        else:\n",
    "            day = random.choice(range(1, 29))\n",
    "    elif month in [1, 3, 5, 7, 8, 10, 12]:\n",
    "        day = random.choice(range(1, 32))\n",
    "    else:\n",
    "        day = random.choice(range(1, 31))\n",
    "    random_date = datetime(year, month, day)\n",
    "    return random_date\n",
    "\n",
    "def random_day_str():\n",
    "    random_date = random_day()\n",
    "    \n",
    "    format_choice = random.choice([\"%B %d, %Y\",\"%b %d, %Y\", \"%m %d, %Y\", \"%B %d, %Y\", \"%B %d, %y\", \"%m %d, %y\",\"%D\", \"%F\"])\n",
    "    random_date_str = random_date.strftime(format_choice)\n",
    "    return  random_date_str\n"
   ]
  },
  {
   "cell_type": "code",
   "execution_count": 189,
   "metadata": {
    "collapsed": true
   },
   "outputs": [],
   "source": [
    "def qa_gen(contractor_name, contractee_name, contractor_addr, contractee_addr, effective_date):\n",
    "    answers = [contractor_name, contractee_name, contractor_addr, contractee_addr, effective_date]\n",
    "    types = [\"contractor name\", \"contractee name\", \"contractor address\", \"contractee address\", \"effective date\"]\n",
    "    ques_ans_list = []\n",
    "    for i, ans in enumerate(answers):\n",
    "        question = \"What is the \" + types[i] + \"?\"\n",
    "        qa = question + \"\\t\" + ans\n",
    "        ques_ans_list.append(qa)\n",
    "    return ques_ans_list"
   ]
  },
  {
   "cell_type": "code",
   "execution_count": 194,
   "metadata": {},
   "outputs": [],
   "source": [
    "\n",
    "from nltk.tokenize import sent_tokenize\n",
    "import os\n",
    "\n",
    "def generate_contract_qa(file_path, N_contracts):\n",
    "    # file_path = \"contracts_qa.txt\"\n",
    "    if os.path.isfile(file_path):\n",
    "        os.remove(file_path)\n",
    "    f = open(file_path, \"a\")\n",
    "\n",
    "    # N_contracts = 10\n",
    "    for i in range(N_contracts):\n",
    "        r_contractor = random.randint(0, N_company-1)\n",
    "        r_contractee = random.randint(0, N_company-1)\n",
    "        contractor_name = company_names[r_contractor]\n",
    "        contractor_addr = \", \".join([company_streets[r_contractor], company_cities[r_contractor], \\\n",
    "                                   company_states[r_contractor], company_zips[r_contractor]])\n",
    "        contractee_name = company_names[r_contractee]\n",
    "        contractee_addr = \", \".join([company_streets[r_contractee], company_cities[r_contractee], \\\n",
    "                                   company_states[r_contractee], company_zips[r_contractee]])\n",
    "        effective_date = random_day_str()\n",
    "        r_template = random.randint(0, N_template-1)\n",
    "        contract = contract_templates[r_template]\n",
    "        contract = contract.replace(\"CONTRACTOR_NAME\", contractor_name)\n",
    "        contract = contract.replace(\"CONTRACTEE_NAME\", contractee_name)\n",
    "        contract = contract.replace(\"CONTRACTOR_ADDR\", contractor_addr)\n",
    "        contract = contract.replace(\"CONTRACTEE_ADDR\", contractee_addr)\n",
    "        contract = contract.replace(\"EFFECTIVE_DATE\", effective_date)\n",
    "        contract_sents = sent_tokenize(contract)\n",
    "\n",
    "        ques_ans_list = qa_gen(contractor_name, contractee_name, contractor_addr, contractee_addr, effective_date)\n",
    "\n",
    "        for i, sent in enumerate(contract_sents):\n",
    "            content = str(i+1) + \" \" + sent + \"\\n\"\n",
    "            f.write(content)\n",
    "        for k, sent in enumerate(ques_ans_list):\n",
    "            content = str(i+k+2) + \" \" + sent  + \"\\n\"\n",
    "            f.write(content)\n",
    "\n",
    "\n",
    "    f.close()\n",
    "\n",
    "    \n",
    "    \n",
    "generate_contract_qa(\"contracts_train.txt\", 200)\n",
    "generate_contract_qa(\"contracts_test.txt\", 200)"
   ]
  },
  {
   "cell_type": "code",
   "execution_count": null,
   "metadata": {
    "collapsed": true
   },
   "outputs": [],
   "source": []
  },
  {
   "cell_type": "code",
   "execution_count": null,
   "metadata": {},
   "outputs": [],
   "source": []
  },
  {
   "cell_type": "code",
   "execution_count": null,
   "metadata": {
    "collapsed": true
   },
   "outputs": [],
   "source": []
  },
  {
   "cell_type": "code",
   "execution_count": null,
   "metadata": {},
   "outputs": [],
   "source": []
  },
  {
   "cell_type": "code",
   "execution_count": 195,
   "metadata": {},
   "outputs": [
    {
     "data": {
      "text/plain": [
       "0"
      ]
     },
     "execution_count": 195,
     "metadata": {},
     "output_type": "execute_result"
    }
   ],
   "source": []
  },
  {
   "cell_type": "code",
   "execution_count": null,
   "metadata": {
    "collapsed": true
   },
   "outputs": [],
   "source": []
  }
 ],
 "metadata": {
  "kernelspec": {
   "display_name": "Python 2",
   "language": "python",
   "name": "python2"
  },
  "language_info": {
   "codemirror_mode": {
    "name": "ipython",
    "version": 2
   },
   "file_extension": ".py",
   "mimetype": "text/x-python",
   "name": "python",
   "nbconvert_exporter": "python",
   "pygments_lexer": "ipython2",
   "version": "2.7.13"
  }
 },
 "nbformat": 4,
 "nbformat_minor": 2
}
